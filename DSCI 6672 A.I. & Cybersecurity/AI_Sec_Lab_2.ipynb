{
  "nbformat": 4,
  "nbformat_minor": 0,
  "metadata": {
    "kernelspec": {
      "display_name": "Py35",
      "language": "python",
      "name": "py35"
    },
    "language_info": {
      "codemirror_mode": {
        "name": "ipython",
        "version": 3
      },
      "file_extension": ".py",
      "mimetype": "text/x-python",
      "name": "python",
      "nbconvert_exporter": "python",
      "pygments_lexer": "ipython3",
      "version": "3.5.4"
    },
    "colab": {
      "name": "AI Sec Lab 2 Joshua Biggs.ipynb",
      "provenance": [],
      "collapsed_sections": []
    }
  },
  "cells": [
    {
      "cell_type": "markdown",
      "metadata": {
        "id": "fvq4PZHlX4WV",
        "colab_type": "text"
      },
      "source": [
        "# Phishing Websites Perceptron Classifier"
      ]
    },
    {
      "cell_type": "markdown",
      "metadata": {
        "id": "nsnRUkv_Wiay",
        "colab_type": "text"
      },
      "source": [
        "This project for DSCI 6672 (A.I. & Cybersecurity) will use a database of common 'Phishing' features to build a machine learning classifier that can identify whether a website is malicous or safe."
      ]
    },
    {
      "cell_type": "code",
      "metadata": {
        "id": "VX7EB3wv3a28",
        "colab_type": "code",
        "colab": {}
      },
      "source": [
        "# Begin by importing needed libraries / packages.\n",
        "%matplotlib inline\n",
        "import warnings\n",
        "warnings.simplefilter('ignore')\n",
        "import pandas as pd\n",
        "import numpy as np\n",
        "import matplotlib.pyplot as plt\n",
        "import seaborn as sns\n",
        "# Load the dataset and add feature labels for easier dataframe manipulation later on.\n",
        "df = pd.read_csv('phishing_dataset.csv', names=['a', 'b', 'c', 'd', 'e', 'f', 'g', 'h', 'i', 'j', 'k', 'l', 'm', 'n', 'o', 'p', 'q', 'r', 's', 't', 'u', 'v', 'w', 'x', 'y', 'z', 'aa', 'ab', 'ac', 'ad', 'phish'])\n",
        "# Set dataframe parameters to be modeled.\n",
        "samples = df.iloc[:,:-1]\n",
        "targets = df.iloc[:, -1]"
      ],
      "execution_count": 0,
      "outputs": []
    },
    {
      "cell_type": "code",
      "metadata": {
        "id": "pc-S30Bm3a2-",
        "colab_type": "code",
        "colab": {}
      },
      "source": [
        "# Split the data into train and test groups.\n",
        "from sklearn.model_selection import train_test_split\n",
        "X_train, X_test, y_train, y_test = train_test_split(\n",
        "         samples, targets, test_size=0.2, random_state=0)"
      ],
      "execution_count": 0,
      "outputs": []
    },
    {
      "cell_type": "code",
      "metadata": {
        "id": "R2dr3V6h3a3B",
        "colab_type": "code",
        "outputId": "ca795bf8-5e60-4bb1-b0ee-4b6585593179",
        "colab": {
          "base_uri": "https://localhost:8080/",
          "height": 90
        }
      },
      "source": [
        "# Initiate model and fit to data.\n",
        "from sklearn.linear_model import Perceptron\n",
        "p = Perceptron(max_iter=40, eta0=0.1, random_state=0)\n",
        "p.fit(X_train, y_train)"
      ],
      "execution_count": 3,
      "outputs": [
        {
          "output_type": "execute_result",
          "data": {
            "text/plain": [
              "Perceptron(alpha=0.0001, class_weight=None, early_stopping=False, eta0=0.1,\n",
              "           fit_intercept=True, max_iter=40, n_iter_no_change=5, n_jobs=None,\n",
              "           penalty=None, random_state=0, shuffle=True, tol=0.001,\n",
              "           validation_fraction=0.1, verbose=0, warm_start=False)"
            ]
          },
          "metadata": {
            "tags": []
          },
          "execution_count": 3
        }
      ]
    },
    {
      "cell_type": "code",
      "metadata": {
        "id": "DgW440wg3a3D",
        "colab_type": "code",
        "colab": {}
      },
      "source": [
        "# Use trained model to generate predictions on test data. \n",
        "y_pred = p.predict(X_test)"
      ],
      "execution_count": 0,
      "outputs": []
    },
    {
      "cell_type": "code",
      "metadata": {
        "id": "lEfBW6hs3a3K",
        "colab_type": "code",
        "outputId": "ec1641b6-7b54-454a-ef1e-394e0952575d",
        "colab": {
          "base_uri": "https://localhost:8080/",
          "height": 54
        }
      },
      "source": [
        "# Review model accuracy.\n",
        "from sklearn.metrics import accuracy_score\n",
        "print('Misclassified samples: %d' % (y_test != y_pred).sum())\n",
        "print('Accuracy: %.2f' % accuracy_score(y_test, y_pred))"
      ],
      "execution_count": 5,
      "outputs": [
        {
          "output_type": "stream",
          "text": [
            "Misclassified samples: 273\n",
            "Accuracy: 0.88\n"
          ],
          "name": "stdout"
        }
      ]
    },
    {
      "cell_type": "markdown",
      "metadata": {
        "id": "uRd6IXscZ_X6",
        "colab_type": "text"
      },
      "source": [
        "After an initial run, our model is 88% accurate in classifying phishing websites. 88% isn't bad for a start, but can the accuracy be improved upon? With 30 features our dataset may be too complex for our perceptron model to accurately predict. One possible solution is simplifying the model through feature elimination.\n",
        "\n"
      ]
    },
    {
      "cell_type": "code",
      "metadata": {
        "id": "rYmA7OeLiAcf",
        "colab_type": "code",
        "outputId": "e528953f-b425-40a2-bce9-5c5bd3e46e86",
        "colab": {
          "base_uri": "https://localhost:8080/",
          "height": 413
        }
      },
      "source": [
        "# Display heat map of feature correlation to identify low correlated features eligible for RFE (Recursive Feature Elimination).\n",
        "heat_map = df\n",
        "plt.figure(figsize=(8, 6))\n",
        "sns.heatmap(heat_map.corr(), cmap='coolwarm', linewidths=3, linecolor='black')"
      ],
      "execution_count": 6,
      "outputs": [
        {
          "output_type": "execute_result",
          "data": {
            "text/plain": [
              "<matplotlib.axes._subplots.AxesSubplot at 0x7f5944b696a0>"
            ]
          },
          "metadata": {
            "tags": []
          },
          "execution_count": 6
        },
        {
          "output_type": "display_data",
          "data": {
            "image/png": "[encoded data removed]",
            "text/plain": [
              "<Figure size 576x432 with 2 Axes>"
            ]
          },
          "metadata": {
            "tags": []
          }
        }
      ]
    },
    {
      "cell_type": "code",
      "metadata": {
        "id": "CnUskxk9e_wx",
        "colab_type": "code",
        "outputId": "20a551d6-1414-460c-c483-05b26d4396a4",
        "colab": {
          "base_uri": "https://localhost:8080/",
          "height": 641
        }
      },
      "source": [
        "# Print a correlation table.\n",
        "print(df.corr())"
      ],
      "execution_count": 7,
      "outputs": [
        {
          "output_type": "stream",
          "text": [
            "              a         b         c  ...        ac        ad     phish\n",
            "a      1.000000 -0.052411  0.403461  ... -0.339065 -0.019103  0.094160\n",
            "b     -0.052411  1.000000 -0.097881  ... -0.022987 -0.067153  0.057430\n",
            "c      0.403461 -0.097881  1.000000  ... -0.198410  0.085461 -0.067966\n",
            "d      0.158699 -0.075108  0.104447  ... -0.006080 -0.080357  0.052948\n",
            "e      0.397389 -0.081247  0.842796  ... -0.194165  0.070390 -0.038608\n",
            "f     -0.005257  0.055247 -0.080471  ...  0.067423 -0.002763  0.348606\n",
            "g     -0.080745  0.003997 -0.041916  ... -0.010526  0.081627  0.298323\n",
            "h      0.071414  0.048754 -0.061426  ... -0.011710  0.063411  0.714741\n",
            "i     -0.022739 -0.221892  0.060923  ...  0.122672 -0.002212 -0.225789\n",
            "j      0.087025 -0.042497  0.006101  ... -0.127243  0.300917 -0.000280\n",
            "k      0.060979  0.000323  0.002201  ... -0.139104  0.343987  0.036419\n",
            "l      0.363534 -0.089383  0.757838  ... -0.128724  0.096187 -0.039854\n",
            "m      0.029773  0.246348 -0.037235  ... -0.067109  0.035412  0.253372\n",
            "n      0.099847 -0.023396  0.000561  ...  0.018651  0.077377  0.692935\n",
            "o      0.006212  0.052869 -0.133379  ...  0.013561 -0.087343  0.248229\n",
            "p     -0.010962  0.414196 -0.022723  ... -0.009068 -0.005289  0.221419\n",
            "q      0.077989 -0.014457  0.049328  ... -0.039956  0.352074  0.018249\n",
            "r      0.336549 -0.106761  0.739290  ... -0.161027  0.186399 -0.060488\n",
            "s     -0.321181  0.046832 -0.534530  ...  0.161278 -0.059194 -0.020113\n",
            "t      0.084059 -0.045103  0.062383  ... -0.038551  0.277347  0.041838\n",
            "u      0.042881 -0.013613  0.038118  ... -0.119831  0.204409  0.012653\n",
            "v      0.096882 -0.049381  0.036616  ... -0.121325  0.285261  0.000086\n",
            "w      0.054694 -0.013838  0.016581  ... -0.140824  0.268418 -0.003394\n",
            "x     -0.010446  0.179426 -0.052596  ...  0.040407  0.009115  0.121496\n",
            "y     -0.050733 -0.040823  0.436064  ... -0.318266  0.136860  0.075718\n",
            "z      0.002922  0.008993 -0.047074  ... -0.019860  0.009223  0.346103\n",
            "aa    -0.091774  0.183518  0.014591  ... -0.028216  0.031049  0.104645\n",
            "ab     0.029153  0.002902  0.155844  ... -0.038777 -0.005103  0.128950\n",
            "ac    -0.339065 -0.022987 -0.198410  ...  1.000000 -0.016817  0.032574\n",
            "ad    -0.019103 -0.067153  0.085461  ... -0.016817  1.000000  0.079857\n",
            "phish  0.094160  0.057430 -0.067966  ...  0.032574  0.079857  1.000000\n",
            "\n",
            "[31 rows x 31 columns]\n"
          ],
          "name": "stdout"
        }
      ]
    },
    {
      "cell_type": "markdown",
      "metadata": {
        "id": "TYPlOD9CsItz",
        "colab_type": "text"
      },
      "source": [
        "As we can see from the table above, many of the features have a very low correlation to the result parameter. One method to experiment with model accuracy is to reduce the number of features, particularly the less relevant features."
      ]
    },
    {
      "cell_type": "code",
      "metadata": {
        "id": "bsDWXDpQi0bj",
        "colab_type": "code",
        "colab": {}
      },
      "source": [
        "# Create a new dataframe for experimentation with features. Set model parameters.\n",
        "df2 = df.copy()\n",
        "X = df2.drop(['phish'], axis = 1).values\n",
        "y = df2['phish'].values"
      ],
      "execution_count": 0,
      "outputs": []
    },
    {
      "cell_type": "code",
      "metadata": {
        "id": "6i9eY1t3jH6Q",
        "colab_type": "code",
        "colab": {}
      },
      "source": [
        "X_train, X_test, y_train, y_test = train_test_split(\n",
        "         X, y, test_size=0.2, random_state=0)"
      ],
      "execution_count": 0,
      "outputs": []
    },
    {
      "cell_type": "markdown",
      "metadata": {
        "id": "-r_PiazLdJcn",
        "colab_type": "text"
      },
      "source": [
        "There are about 10 or so features that have a correlation of less than 0.03 to the target parameter. We will reduce our model from 30 features, down to 20 and evaluate any performance change."
      ]
    },
    {
      "cell_type": "code",
      "metadata": {
        "id": "m4vBbKsujNLh",
        "colab_type": "code",
        "outputId": "981c2b50-115d-4324-93da-5eeb69501342",
        "colab": {
          "base_uri": "https://localhost:8080/",
          "height": 35
        }
      },
      "source": [
        "# Import RFE for feature reduction.\n",
        "from sklearn.feature_selection import RFE\n",
        "p = Perceptron(max_iter=100, eta0=0.22, random_state=0)\n",
        "# Reduce features from 30 to 20.\n",
        "rfe = RFE(p,20)                              \n",
        "rfe = rfe.fit(X_train, y_train)               \n",
        "pred = rfe.predict(X_test)\n",
        "# Test accuracy on reduced model.\n",
        "print(\"Accuracy of reduced dataset:\", accuracy_score(y_test,pred))"
      ],
      "execution_count": 23,
      "outputs": [
        {
          "output_type": "stream",
          "text": [
            "Accuracy of reduced dataset: 0.9140660334690185\n"
          ],
          "name": "stdout"
        }
      ]
    },
    {
      "cell_type": "markdown",
      "metadata": {
        "id": "qvSB-w7EcDHR",
        "colab_type": "text"
      },
      "source": [
        "The accuracy of our model increased by three percent by losing some of the less relevant features."
      ]
    },
    {
      "cell_type": "markdown",
      "metadata": {
        "id": "YqVout5As05L",
        "colab_type": "text"
      },
      "source": [
        "Now that we've seen the performance of a perceptron model, perhaps there are other models that might be a better fit for the data. Lets explore if a different model can give us better results."
      ]
    },
    {
      "cell_type": "code",
      "metadata": {
        "id": "l1iuDB75jNOg",
        "colab_type": "code",
        "colab": {}
      },
      "source": [
        "# Import Random Forest Classifier\n",
        "from sklearn.ensemble import RandomForestClassifier\n",
        "rfc = RandomForestClassifier()"
      ],
      "execution_count": 0,
      "outputs": []
    },
    {
      "cell_type": "code",
      "metadata": {
        "id": "wSW_Xx9NjNRs",
        "colab_type": "code",
        "outputId": "3d075e03-99c8-4b87-d975-c5c6b33a0981",
        "colab": {
          "base_uri": "https://localhost:8080/",
          "height": 35
        }
      },
      "source": [
        "rfe = RFE(rfc,20)                              \n",
        "rfe = rfe.fit(X_train, y_train)               \n",
        "pred = rfe.predict(X_test)\n",
        "\n",
        "print(\"Accuracy of reduced dataset with RFC:\", accuracy_score(y_test,pred))"
      ],
      "execution_count": 12,
      "outputs": [
        {
          "output_type": "stream",
          "text": [
            "Accuracy of reduced dataset with RFC: 0.966078697421981\n"
          ],
          "name": "stdout"
        }
      ]
    },
    {
      "cell_type": "markdown",
      "metadata": {
        "id": "pfme9ClwYWXc",
        "colab_type": "text"
      },
      "source": [
        "Our random forest classifier seems to do better with 96% accuracy."
      ]
    },
    {
      "cell_type": "code",
      "metadata": {
        "id": "t90k9pkmjNIt",
        "colab_type": "code",
        "colab": {}
      },
      "source": [
        "from sklearn.linear_model import LogisticRegression\n",
        "logreg = LogisticRegression()"
      ],
      "execution_count": 0,
      "outputs": []
    },
    {
      "cell_type": "code",
      "metadata": {
        "id": "xQUhMJJVpTvL",
        "colab_type": "code",
        "outputId": "32b943d3-06b6-44c6-8264-7af89b989348",
        "colab": {
          "base_uri": "https://localhost:8080/",
          "height": 35
        }
      },
      "source": [
        "rfe = RFE(logreg,10)                              \n",
        "rfe = rfe.fit(X_train, y_train)               \n",
        "pred = rfe.predict(X_test)\n",
        "\n",
        "print(\"Accuracy of reduced dataset with Logistic Regression:\", accuracy_score(y_test,pred))"
      ],
      "execution_count": 14,
      "outputs": [
        {
          "output_type": "stream",
          "text": [
            "Accuracy of reduced dataset with Logistic Regression: 0.919041157847128\n"
          ],
          "name": "stdout"
        }
      ]
    },
    {
      "cell_type": "markdown",
      "metadata": {
        "id": "lZtoluHUYioi",
        "colab_type": "text"
      },
      "source": [
        "Logistic regression performs fairly well on our data, but not significantly better than our perceptron model."
      ]
    },
    {
      "cell_type": "code",
      "metadata": {
        "id": "WoYPmjQOwqrs",
        "colab_type": "code",
        "colab": {}
      },
      "source": [
        "from sklearn.neural_network import MLPClassifier\n",
        "\n",
        "mlp = MLPClassifier(hidden_layer_sizes=(100,100,100), activation='relu', solver='adam', max_iter=500)\n",
        "mlp.fit(X_train,y_train)\n",
        "\n",
        "predict_train = mlp.predict(X_train)\n",
        "predict_test = mlp.predict(X_test)"
      ],
      "execution_count": 0,
      "outputs": []
    },
    {
      "cell_type": "code",
      "metadata": {
        "id": "JOWMZDs0w7Sz",
        "colab_type": "code",
        "outputId": "595ac6b1-69cc-4835-cdfc-d1f93efc5cd0",
        "colab": {
          "base_uri": "https://localhost:8080/",
          "height": 219
        }
      },
      "source": [
        "from sklearn.metrics import classification_report,confusion_matrix\n",
        "print(confusion_matrix(y_train,predict_train))\n",
        "print(classification_report(y_train,predict_train))"
      ],
      "execution_count": 16,
      "outputs": [
        {
          "output_type": "stream",
          "text": [
            "[[3837   47]\n",
            " [  48 4912]]\n",
            "              precision    recall  f1-score   support\n",
            "\n",
            "          -1       0.99      0.99      0.99      3884\n",
            "           1       0.99      0.99      0.99      4960\n",
            "\n",
            "    accuracy                           0.99      8844\n",
            "   macro avg       0.99      0.99      0.99      8844\n",
            "weighted avg       0.99      0.99      0.99      8844\n",
            "\n"
          ],
          "name": "stdout"
        }
      ]
    },
    {
      "cell_type": "code",
      "metadata": {
        "id": "5ReJX81Uw7ah",
        "colab_type": "code",
        "outputId": "31af31e1-0460-4920-d3c2-4f83f24a01c8",
        "colab": {
          "base_uri": "https://localhost:8080/",
          "height": 219
        }
      },
      "source": [
        "print(confusion_matrix(y_test,predict_test))\n",
        "print(classification_report(y_test,predict_test))"
      ],
      "execution_count": 17,
      "outputs": [
        {
          "output_type": "stream",
          "text": [
            "[[ 968   46]\n",
            " [  22 1175]]\n",
            "              precision    recall  f1-score   support\n",
            "\n",
            "          -1       0.98      0.95      0.97      1014\n",
            "           1       0.96      0.98      0.97      1197\n",
            "\n",
            "    accuracy                           0.97      2211\n",
            "   macro avg       0.97      0.97      0.97      2211\n",
            "weighted avg       0.97      0.97      0.97      2211\n",
            "\n"
          ],
          "name": "stdout"
        }
      ]
    },
    {
      "cell_type": "markdown",
      "metadata": {
        "id": "d6xyPlHcYyPS",
        "colab_type": "text"
      },
      "source": [
        "A multi-layer perceptron classifier has the best performance of the bunch,   with 97% accuracy on the test data."
      ]
    }
  ]
}